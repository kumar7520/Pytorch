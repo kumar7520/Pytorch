{
  "nbformat": 4,
  "nbformat_minor": 0,
  "metadata": {
    "colab": {
      "provenance": [],
      "gpuType": "T4"
    },
    "kernelspec": {
      "name": "python3",
      "display_name": "Python 3"
    },
    "language_info": {
      "name": "python"
    },
    "accelerator": "GPU",
    "widgets": {
      "application/vnd.jupyter.widget-state+json": {
        "cdb9f39f4a4d47bd9166040cc5615288": {
          "model_module": "@jupyter-widgets/controls",
          "model_name": "HBoxModel",
          "model_module_version": "1.5.0",
          "state": {
            "_dom_classes": [],
            "_model_module": "@jupyter-widgets/controls",
            "_model_module_version": "1.5.0",
            "_model_name": "HBoxModel",
            "_view_count": null,
            "_view_module": "@jupyter-widgets/controls",
            "_view_module_version": "1.5.0",
            "_view_name": "HBoxView",
            "box_style": "",
            "children": [
              "IPY_MODEL_bcb751cd16eb4aca9666c640c41c006e",
              "IPY_MODEL_46cb7b90f71e44e8b0e865467092dd56",
              "IPY_MODEL_2a5099f95d924822a0a5dca556cc16ae"
            ],
            "layout": "IPY_MODEL_ebc7c8af9f214c519ab9a01641b7125a"
          }
        },
        "bcb751cd16eb4aca9666c640c41c006e": {
          "model_module": "@jupyter-widgets/controls",
          "model_name": "HTMLModel",
          "model_module_version": "1.5.0",
          "state": {
            "_dom_classes": [],
            "_model_module": "@jupyter-widgets/controls",
            "_model_module_version": "1.5.0",
            "_model_name": "HTMLModel",
            "_view_count": null,
            "_view_module": "@jupyter-widgets/controls",
            "_view_module_version": "1.5.0",
            "_view_name": "HTMLView",
            "description": "",
            "description_tooltip": null,
            "layout": "IPY_MODEL_2b7d344202734249b0c03beb367c2e6d",
            "placeholder": "​",
            "style": "IPY_MODEL_4c776f3a9c084008b5b8560a901a8eba",
            "value": "100%"
          }
        },
        "46cb7b90f71e44e8b0e865467092dd56": {
          "model_module": "@jupyter-widgets/controls",
          "model_name": "FloatProgressModel",
          "model_module_version": "1.5.0",
          "state": {
            "_dom_classes": [],
            "_model_module": "@jupyter-widgets/controls",
            "_model_module_version": "1.5.0",
            "_model_name": "FloatProgressModel",
            "_view_count": null,
            "_view_module": "@jupyter-widgets/controls",
            "_view_module_version": "1.5.0",
            "_view_name": "ProgressView",
            "bar_style": "success",
            "description": "",
            "description_tooltip": null,
            "layout": "IPY_MODEL_0ecd4d79a7b74054a85aabe1ce61a6ef",
            "max": 25,
            "min": 0,
            "orientation": "horizontal",
            "style": "IPY_MODEL_d6856d55c5d0405b8a9272265e8519b1",
            "value": 25
          }
        },
        "2a5099f95d924822a0a5dca556cc16ae": {
          "model_module": "@jupyter-widgets/controls",
          "model_name": "HTMLModel",
          "model_module_version": "1.5.0",
          "state": {
            "_dom_classes": [],
            "_model_module": "@jupyter-widgets/controls",
            "_model_module_version": "1.5.0",
            "_model_name": "HTMLModel",
            "_view_count": null,
            "_view_module": "@jupyter-widgets/controls",
            "_view_module_version": "1.5.0",
            "_view_name": "HTMLView",
            "description": "",
            "description_tooltip": null,
            "layout": "IPY_MODEL_fed0caeabb424f72b67038f5dcad16a6",
            "placeholder": "​",
            "style": "IPY_MODEL_89212f43c4e54757984ddcebcf68afe5",
            "value": " 25/25 [03:44&lt;00:00,  8.60s/it]"
          }
        },
        "ebc7c8af9f214c519ab9a01641b7125a": {
          "model_module": "@jupyter-widgets/base",
          "model_name": "LayoutModel",
          "model_module_version": "1.2.0",
          "state": {
            "_model_module": "@jupyter-widgets/base",
            "_model_module_version": "1.2.0",
            "_model_name": "LayoutModel",
            "_view_count": null,
            "_view_module": "@jupyter-widgets/base",
            "_view_module_version": "1.2.0",
            "_view_name": "LayoutView",
            "align_content": null,
            "align_items": null,
            "align_self": null,
            "border": null,
            "bottom": null,
            "display": null,
            "flex": null,
            "flex_flow": null,
            "grid_area": null,
            "grid_auto_columns": null,
            "grid_auto_flow": null,
            "grid_auto_rows": null,
            "grid_column": null,
            "grid_gap": null,
            "grid_row": null,
            "grid_template_areas": null,
            "grid_template_columns": null,
            "grid_template_rows": null,
            "height": null,
            "justify_content": null,
            "justify_items": null,
            "left": null,
            "margin": null,
            "max_height": null,
            "max_width": null,
            "min_height": null,
            "min_width": null,
            "object_fit": null,
            "object_position": null,
            "order": null,
            "overflow": null,
            "overflow_x": null,
            "overflow_y": null,
            "padding": null,
            "right": null,
            "top": null,
            "visibility": null,
            "width": null
          }
        },
        "2b7d344202734249b0c03beb367c2e6d": {
          "model_module": "@jupyter-widgets/base",
          "model_name": "LayoutModel",
          "model_module_version": "1.2.0",
          "state": {
            "_model_module": "@jupyter-widgets/base",
            "_model_module_version": "1.2.0",
            "_model_name": "LayoutModel",
            "_view_count": null,
            "_view_module": "@jupyter-widgets/base",
            "_view_module_version": "1.2.0",
            "_view_name": "LayoutView",
            "align_content": null,
            "align_items": null,
            "align_self": null,
            "border": null,
            "bottom": null,
            "display": null,
            "flex": null,
            "flex_flow": null,
            "grid_area": null,
            "grid_auto_columns": null,
            "grid_auto_flow": null,
            "grid_auto_rows": null,
            "grid_column": null,
            "grid_gap": null,
            "grid_row": null,
            "grid_template_areas": null,
            "grid_template_columns": null,
            "grid_template_rows": null,
            "height": null,
            "justify_content": null,
            "justify_items": null,
            "left": null,
            "margin": null,
            "max_height": null,
            "max_width": null,
            "min_height": null,
            "min_width": null,
            "object_fit": null,
            "object_position": null,
            "order": null,
            "overflow": null,
            "overflow_x": null,
            "overflow_y": null,
            "padding": null,
            "right": null,
            "top": null,
            "visibility": null,
            "width": null
          }
        },
        "4c776f3a9c084008b5b8560a901a8eba": {
          "model_module": "@jupyter-widgets/controls",
          "model_name": "DescriptionStyleModel",
          "model_module_version": "1.5.0",
          "state": {
            "_model_module": "@jupyter-widgets/controls",
            "_model_module_version": "1.5.0",
            "_model_name": "DescriptionStyleModel",
            "_view_count": null,
            "_view_module": "@jupyter-widgets/base",
            "_view_module_version": "1.2.0",
            "_view_name": "StyleView",
            "description_width": ""
          }
        },
        "0ecd4d79a7b74054a85aabe1ce61a6ef": {
          "model_module": "@jupyter-widgets/base",
          "model_name": "LayoutModel",
          "model_module_version": "1.2.0",
          "state": {
            "_model_module": "@jupyter-widgets/base",
            "_model_module_version": "1.2.0",
            "_model_name": "LayoutModel",
            "_view_count": null,
            "_view_module": "@jupyter-widgets/base",
            "_view_module_version": "1.2.0",
            "_view_name": "LayoutView",
            "align_content": null,
            "align_items": null,
            "align_self": null,
            "border": null,
            "bottom": null,
            "display": null,
            "flex": null,
            "flex_flow": null,
            "grid_area": null,
            "grid_auto_columns": null,
            "grid_auto_flow": null,
            "grid_auto_rows": null,
            "grid_column": null,
            "grid_gap": null,
            "grid_row": null,
            "grid_template_areas": null,
            "grid_template_columns": null,
            "grid_template_rows": null,
            "height": null,
            "justify_content": null,
            "justify_items": null,
            "left": null,
            "margin": null,
            "max_height": null,
            "max_width": null,
            "min_height": null,
            "min_width": null,
            "object_fit": null,
            "object_position": null,
            "order": null,
            "overflow": null,
            "overflow_x": null,
            "overflow_y": null,
            "padding": null,
            "right": null,
            "top": null,
            "visibility": null,
            "width": null
          }
        },
        "d6856d55c5d0405b8a9272265e8519b1": {
          "model_module": "@jupyter-widgets/controls",
          "model_name": "ProgressStyleModel",
          "model_module_version": "1.5.0",
          "state": {
            "_model_module": "@jupyter-widgets/controls",
            "_model_module_version": "1.5.0",
            "_model_name": "ProgressStyleModel",
            "_view_count": null,
            "_view_module": "@jupyter-widgets/base",
            "_view_module_version": "1.2.0",
            "_view_name": "StyleView",
            "bar_color": null,
            "description_width": ""
          }
        },
        "fed0caeabb424f72b67038f5dcad16a6": {
          "model_module": "@jupyter-widgets/base",
          "model_name": "LayoutModel",
          "model_module_version": "1.2.0",
          "state": {
            "_model_module": "@jupyter-widgets/base",
            "_model_module_version": "1.2.0",
            "_model_name": "LayoutModel",
            "_view_count": null,
            "_view_module": "@jupyter-widgets/base",
            "_view_module_version": "1.2.0",
            "_view_name": "LayoutView",
            "align_content": null,
            "align_items": null,
            "align_self": null,
            "border": null,
            "bottom": null,
            "display": null,
            "flex": null,
            "flex_flow": null,
            "grid_area": null,
            "grid_auto_columns": null,
            "grid_auto_flow": null,
            "grid_auto_rows": null,
            "grid_column": null,
            "grid_gap": null,
            "grid_row": null,
            "grid_template_areas": null,
            "grid_template_columns": null,
            "grid_template_rows": null,
            "height": null,
            "justify_content": null,
            "justify_items": null,
            "left": null,
            "margin": null,
            "max_height": null,
            "max_width": null,
            "min_height": null,
            "min_width": null,
            "object_fit": null,
            "object_position": null,
            "order": null,
            "overflow": null,
            "overflow_x": null,
            "overflow_y": null,
            "padding": null,
            "right": null,
            "top": null,
            "visibility": null,
            "width": null
          }
        },
        "89212f43c4e54757984ddcebcf68afe5": {
          "model_module": "@jupyter-widgets/controls",
          "model_name": "DescriptionStyleModel",
          "model_module_version": "1.5.0",
          "state": {
            "_model_module": "@jupyter-widgets/controls",
            "_model_module_version": "1.5.0",
            "_model_name": "DescriptionStyleModel",
            "_view_count": null,
            "_view_module": "@jupyter-widgets/base",
            "_view_module_version": "1.2.0",
            "_view_name": "StyleView",
            "description_width": ""
          }
        }
      }
    }
  },
  "cells": [
    {
      "cell_type": "code",
      "execution_count": null,
      "metadata": {
        "id": "Us14dCvHgNGD"
      },
      "outputs": [],
      "source": [
        "#load the libraries\n",
        "import torch\n",
        "import torch.nn as nn\n",
        "import torchvision\n",
        "import torchvision.transforms as transforms\n",
        "import matplotlib.pyplot as plt\n",
        "from torch.utils.data import DataLoader\n",
        "import torch.nn.functional as F\n",
        "\n",
        "from tqdm.auto import tqdm\n"
      ]
    },
    {
      "cell_type": "code",
      "source": [
        "# Import MNIST dataset\n",
        "train_dataset = torchvision.datasets.FashionMNIST(root='./data',\n",
        "                                           train=True,\n",
        "                                           transform=transforms.ToTensor(),\n",
        "                                           download=True)\n",
        "\n",
        "test_data = torchvision.datasets.FashionMNIST(root='./data',\n",
        "                                          train=False,\n",
        "                                          transform=transforms.ToTensor())"
      ],
      "metadata": {
        "colab": {
          "base_uri": "https://localhost:8080/"
        },
        "id": "rRf6jNlKg9sM",
        "outputId": "f270e974-d6bc-4cf8-8872-6fa6cde3b94c"
      },
      "execution_count": null,
      "outputs": [
        {
          "output_type": "stream",
          "name": "stdout",
          "text": [
            "Downloading http://fashion-mnist.s3-website.eu-central-1.amazonaws.com/train-images-idx3-ubyte.gz\n",
            "Downloading http://fashion-mnist.s3-website.eu-central-1.amazonaws.com/train-images-idx3-ubyte.gz to ./data/FashionMNIST/raw/train-images-idx3-ubyte.gz\n"
          ]
        },
        {
          "output_type": "stream",
          "name": "stderr",
          "text": [
            "100%|██████████| 26421880/26421880 [00:01<00:00, 14801617.42it/s]\n"
          ]
        },
        {
          "output_type": "stream",
          "name": "stdout",
          "text": [
            "Extracting ./data/FashionMNIST/raw/train-images-idx3-ubyte.gz to ./data/FashionMNIST/raw\n",
            "\n",
            "Downloading http://fashion-mnist.s3-website.eu-central-1.amazonaws.com/train-labels-idx1-ubyte.gz\n",
            "Downloading http://fashion-mnist.s3-website.eu-central-1.amazonaws.com/train-labels-idx1-ubyte.gz to ./data/FashionMNIST/raw/train-labels-idx1-ubyte.gz\n"
          ]
        },
        {
          "output_type": "stream",
          "name": "stderr",
          "text": [
            "100%|██████████| 29515/29515 [00:00<00:00, 257146.89it/s]\n"
          ]
        },
        {
          "output_type": "stream",
          "name": "stdout",
          "text": [
            "Extracting ./data/FashionMNIST/raw/train-labels-idx1-ubyte.gz to ./data/FashionMNIST/raw\n",
            "\n",
            "Downloading http://fashion-mnist.s3-website.eu-central-1.amazonaws.com/t10k-images-idx3-ubyte.gz\n",
            "Downloading http://fashion-mnist.s3-website.eu-central-1.amazonaws.com/t10k-images-idx3-ubyte.gz to ./data/FashionMNIST/raw/t10k-images-idx3-ubyte.gz\n"
          ]
        },
        {
          "output_type": "stream",
          "name": "stderr",
          "text": [
            "100%|██████████| 4422102/4422102 [00:00<00:00, 5086998.78it/s]\n"
          ]
        },
        {
          "output_type": "stream",
          "name": "stdout",
          "text": [
            "Extracting ./data/FashionMNIST/raw/t10k-images-idx3-ubyte.gz to ./data/FashionMNIST/raw\n",
            "\n",
            "Downloading http://fashion-mnist.s3-website.eu-central-1.amazonaws.com/t10k-labels-idx1-ubyte.gz\n",
            "Downloading http://fashion-mnist.s3-website.eu-central-1.amazonaws.com/t10k-labels-idx1-ubyte.gz to ./data/FashionMNIST/raw/t10k-labels-idx1-ubyte.gz\n"
          ]
        },
        {
          "output_type": "stream",
          "name": "stderr",
          "text": [
            "100%|██████████| 5148/5148 [00:00<00:00, 20583676.83it/s]"
          ]
        },
        {
          "output_type": "stream",
          "name": "stdout",
          "text": [
            "Extracting ./data/FashionMNIST/raw/t10k-labels-idx1-ubyte.gz to ./data/FashionMNIST/raw\n",
            "\n"
          ]
        },
        {
          "output_type": "stream",
          "name": "stderr",
          "text": [
            "\n"
          ]
        }
      ]
    },
    {
      "cell_type": "code",
      "source": [
        "train_data, val_data = torch.utils.data.random_split(train_dataset, [50000, 10000], torch.Generator().manual_seed(9))"
      ],
      "metadata": {
        "id": "hcvRW5gIfnRU"
      },
      "execution_count": null,
      "outputs": []
    },
    {
      "cell_type": "code",
      "source": [
        "# Data loader\n",
        "train_loader = DataLoader(dataset= train_data,batch_size= 64,shuffle=True)\n",
        "val_loader = DataLoader(dataset= val_data,batch_size= 64,shuffle= True)\n",
        "test_loader = DataLoader(dataset= test_data, batch_size= 64,shuffle= False)"
      ],
      "metadata": {
        "id": "SOSVIb1-hBxs"
      },
      "execution_count": null,
      "outputs": []
    },
    {
      "cell_type": "code",
      "source": [
        "examples = next(iter(test_loader))\n",
        "example_data, example_targets = examples\n",
        "for i in range(6):\n",
        "    plt.subplot(2,3,i+1)\n",
        "    plt.imshow(example_data[i][0], cmap='gray')\n",
        "plt.show()"
      ],
      "metadata": {
        "colab": {
          "base_uri": "https://localhost:8080/",
          "height": 411
        },
        "id": "8O30NEAfhlKw",
        "outputId": "283afda4-509b-48d8-d000-3ad661d3a1cc"
      },
      "execution_count": null,
      "outputs": [
        {
          "output_type": "display_data",
          "data": {
            "text/plain": [
              "<Figure size 640x480 with 6 Axes>"
            ],
            "image/png": "[encoded data removed]"
          },
          "metadata": {}
        }
      ]
    },
    {
      "cell_type": "code",
      "source": [
        "# Fully connected neural network with one hidden layer\n",
        "class MNISTNET(nn.Module):\n",
        "    def __init__(self):\n",
        "        super(MNISTNET, self).__init__()\n",
        "        self.l1 = nn.Linear(28*28, 1024)\n",
        "        self.l2 = nn.Linear(1024, 512)\n",
        "        self.l3 = nn.Linear(512, 128)\n",
        "        self.l4 = nn.Linear(128, 10)\n",
        "        self.relu = nn.ReLU()\n",
        "\n",
        "    def forward(self, x):\n",
        "        x = self.l1(x)\n",
        "        x = self.relu(x)\n",
        "        x = self.l2(x)\n",
        "        x = self.relu(x)\n",
        "        x = self.l3(x)\n",
        "        x = self.relu(x)\n",
        "        x = self.l4(x)\n",
        "        x = F.softmax(x, dim=1)\n",
        "\n",
        "        return x"
      ],
      "metadata": {
        "id": "4PPzlnBEhrDi"
      },
      "execution_count": null,
      "outputs": []
    },
    {
      "cell_type": "code",
      "source": [
        "device = torch.device('cuda' if torch.cuda.is_available() else 'cpu')"
      ],
      "metadata": {
        "id": "rGhvWKjzgYKO"
      },
      "execution_count": null,
      "outputs": []
    },
    {
      "cell_type": "code",
      "source": [
        "model = MNISTNET().to(device)\n",
        "model"
      ],
      "metadata": {
        "id": "uhpHC_9whwko",
        "colab": {
          "base_uri": "https://localhost:8080/"
        },
        "outputId": "e78df3f4-4152-49ef-c110-3a7bc00ff53d"
      },
      "execution_count": null,
      "outputs": [
        {
          "output_type": "execute_result",
          "data": {
            "text/plain": [
              "MNISTNET(\n",
              "  (l1): Linear(in_features=784, out_features=1024, bias=True)\n",
              "  (l2): Linear(in_features=1024, out_features=512, bias=True)\n",
              "  (l3): Linear(in_features=512, out_features=128, bias=True)\n",
              "  (l4): Linear(in_features=128, out_features=10, bias=True)\n",
              "  (relu): ReLU()\n",
              ")"
            ]
          },
          "metadata": {},
          "execution_count": 8
        }
      ]
    },
    {
      "cell_type": "code",
      "source": [
        "EPOCHS = 25\n",
        "learning_rate = 1e-3"
      ],
      "metadata": {
        "id": "fm77GoEygm_o"
      },
      "execution_count": null,
      "outputs": []
    },
    {
      "cell_type": "code",
      "source": [
        "# Loss and optimizer\n",
        "loss_fn = nn.CrossEntropyLoss()\n",
        "optimizer = torch.optim.Adam(model.parameters(), lr=learning_rate)"
      ],
      "metadata": {
        "id": "5SJ3J9bgh7xv"
      },
      "execution_count": null,
      "outputs": []
    },
    {
      "cell_type": "code",
      "source": [
        "from sklearn.metrics import accuracy_score\n",
        "\n",
        "def train_model(model, dataloader, optmizer, loss_fn):\n",
        "    model.train()\n",
        "    train_loss, train_acc= 0, 0\n",
        "\n",
        "    for X, y in dataloader:\n",
        "        # Forward Pass\n",
        "        X, y = X.reshape(-1, 28*28).to(torch.device(device)), y.to(torch.device(device))\n",
        "        y_pred = model(X)\n",
        "        loss = loss_fn(y_pred, y)\n",
        "\n",
        "        train_loss += loss\n",
        "        train_acc += accuracy_score(y.cpu(), y_pred.cpu().argmax(dim= 1))\n",
        "\n",
        "        # Back Propagation\n",
        "        optmizer.zero_grad()\n",
        "        loss.backward()\n",
        "        optmizer.step()\n",
        "\n",
        "        train_loss /= len(dataloader)\n",
        "\n",
        "    train_acc /= len(dataloader)\n",
        "    print(f\"Train loss: {train_loss:.4f} | Train accuracy: {train_acc:.4f}\")\n",
        "\n",
        "    return train_loss, train_acc"
      ],
      "metadata": {
        "id": "FGb1oGClPZfh"
      },
      "execution_count": null,
      "outputs": []
    },
    {
      "cell_type": "code",
      "source": [
        "def val_model(model, dataloader, optmizer, loss_fn):\n",
        "  model.eval()\n",
        "  val_loss, val_acc= 0, 0\n",
        "\n",
        "  with torch.no_grad():\n",
        "    for X, y in dataloader:\n",
        "      X, y = X.reshape(-1, 28*28).to(device), y.to(device)\n",
        "      y_pred = model(X)\n",
        "\n",
        "      val_loss += loss_fn(y_pred, y)\n",
        "      val_acc += accuracy_score(y.cpu(), y_pred.cpu().argmax(dim= 1))\n",
        "\n",
        "      val_loss /= len(dataloader)\n",
        "\n",
        "  val_acc /= len(dataloader)\n",
        "  print(f\"Val loss: {val_loss:.4f} | Val accuracy: {val_acc:.4f}\")\n",
        "\n",
        "  return val_loss, val_acc"
      ],
      "metadata": {
        "id": "xRm0CiBjPjhw"
      },
      "execution_count": null,
      "outputs": []
    },
    {
      "cell_type": "code",
      "source": [
        "torch.manual_seed(0)\n",
        "\n",
        "train_loss = []\n",
        "train_acc = []\n",
        "val_loss = []\n",
        "val_acc = []\n",
        "\n",
        "for epoch in tqdm(range(EPOCHS)):\n",
        "\n",
        "  print(f\"Epoch {epoch + 1}/{EPOCHS}\")\n",
        "\n",
        "  x1 = train_model(model, train_loader, optimizer, loss_fn)\n",
        "  train_loss.append(x1[0])\n",
        "  train_acc.append(x1[1])\n",
        "  x2 = val_model(model, val_loader, optimizer, loss_fn)\n",
        "  val_loss.append(x2[0])\n",
        "  val_acc.append(x2[1])\n",
        "\n",
        "  print(\"--------------------------------------------------------\")"
      ],
      "metadata": {
        "colab": {
          "base_uri": "https://localhost:8080/",
          "height": 1000,
          "referenced_widgets": [
            "cdb9f39f4a4d47bd9166040cc5615288",
            "bcb751cd16eb4aca9666c640c41c006e",
            "46cb7b90f71e44e8b0e865467092dd56",
            "2a5099f95d924822a0a5dca556cc16ae",
            "ebc7c8af9f214c519ab9a01641b7125a",
            "2b7d344202734249b0c03beb367c2e6d",
            "4c776f3a9c084008b5b8560a901a8eba",
            "0ecd4d79a7b74054a85aabe1ce61a6ef",
            "d6856d55c5d0405b8a9272265e8519b1",
            "fed0caeabb424f72b67038f5dcad16a6",
            "89212f43c4e54757984ddcebcf68afe5"
          ]
        },
        "id": "d68JmMa_PtFI",
        "outputId": "98d9a840-52c6-42db-866f-317c91a06498"
      },
      "execution_count": null,
      "outputs": [
        {
          "output_type": "display_data",
          "data": {
            "text/plain": [
              "  0%|          | 0/25 [00:00<?, ?it/s]"
            ],
            "application/vnd.jupyter.widget-view+json": {
              "version_major": 2,
              "version_minor": 0,
              "model_id": "cdb9f39f4a4d47bd9166040cc5615288"
            }
          },
          "metadata": {}
        },
        {
          "output_type": "stream",
          "name": "stdout",
          "text": [
            "Epoch 1/25\n",
            "Train loss: 0.0023 | Train accuracy: 0.6976\n",
            "Val loss: 0.0113 | Val accuracy: 0.7209\n",
            "--------------------------------------------------------\n",
            "Epoch 2/25\n",
            "Train loss: 0.0020 | Train accuracy: 0.7178\n",
            "Val loss: 0.0122 | Val accuracy: 0.7354\n",
            "--------------------------------------------------------\n",
            "Epoch 3/25\n",
            "Train loss: 0.0024 | Train accuracy: 0.7290\n",
            "Val loss: 0.0114 | Val accuracy: 0.7245\n",
            "--------------------------------------------------------\n",
            "Epoch 4/25\n",
            "Train loss: 0.0023 | Train accuracy: 0.7282\n",
            "Val loss: 0.0118 | Val accuracy: 0.7560\n",
            "--------------------------------------------------------\n",
            "Epoch 5/25\n",
            "Train loss: 0.0022 | Train accuracy: 0.7430\n",
            "Val loss: 0.0102 | Val accuracy: 0.7721\n",
            "--------------------------------------------------------\n",
            "Epoch 6/25\n",
            "Train loss: 0.0022 | Train accuracy: 0.7805\n",
            "Val loss: 0.0106 | Val accuracy: 0.7894\n",
            "--------------------------------------------------------\n",
            "Epoch 7/25\n",
            "Train loss: 0.0023 | Train accuracy: 0.7906\n",
            "Val loss: 0.0118 | Val accuracy: 0.7989\n",
            "--------------------------------------------------------\n",
            "Epoch 8/25\n",
            "Train loss: 0.0022 | Train accuracy: 0.7919\n",
            "Val loss: 0.0098 | Val accuracy: 0.8194\n",
            "--------------------------------------------------------\n",
            "Epoch 9/25\n",
            "Train loss: 0.0022 | Train accuracy: 0.7973\n",
            "Val loss: 0.0098 | Val accuracy: 0.7951\n",
            "--------------------------------------------------------\n",
            "Epoch 10/25\n",
            "Train loss: 0.0024 | Train accuracy: 0.7967\n",
            "Val loss: 0.0106 | Val accuracy: 0.7824\n",
            "--------------------------------------------------------\n",
            "Epoch 11/25\n",
            "Train loss: 0.0020 | Train accuracy: 0.7892\n",
            "Val loss: 0.0102 | Val accuracy: 0.8068\n",
            "--------------------------------------------------------\n",
            "Epoch 12/25\n",
            "Train loss: 0.0021 | Train accuracy: 0.8025\n",
            "Val loss: 0.0106 | Val accuracy: 0.8019\n",
            "--------------------------------------------------------\n",
            "Epoch 13/25\n",
            "Train loss: 0.0020 | Train accuracy: 0.7854\n",
            "Val loss: 0.0102 | Val accuracy: 0.8137\n",
            "--------------------------------------------------------\n",
            "Epoch 14/25\n",
            "Train loss: 0.0022 | Train accuracy: 0.7731\n",
            "Val loss: 0.0106 | Val accuracy: 0.7301\n",
            "--------------------------------------------------------\n",
            "Epoch 15/25\n",
            "Train loss: 0.0022 | Train accuracy: 0.7643\n",
            "Val loss: 0.0110 | Val accuracy: 0.7954\n",
            "--------------------------------------------------------\n",
            "Epoch 16/25\n",
            "Train loss: 0.0020 | Train accuracy: 0.7987\n",
            "Val loss: 0.0114 | Val accuracy: 0.8176\n",
            "--------------------------------------------------------\n",
            "Epoch 17/25\n",
            "Train loss: 0.0021 | Train accuracy: 0.7768\n",
            "Val loss: 0.0106 | Val accuracy: 0.7633\n",
            "--------------------------------------------------------\n",
            "Epoch 18/25\n",
            "Train loss: 0.0022 | Train accuracy: 0.7860\n",
            "Val loss: 0.0110 | Val accuracy: 0.8195\n",
            "--------------------------------------------------------\n",
            "Epoch 19/25\n",
            "Train loss: 0.0022 | Train accuracy: 0.8088\n",
            "Val loss: 0.0106 | Val accuracy: 0.8312\n",
            "--------------------------------------------------------\n",
            "Epoch 20/25\n",
            "Train loss: 0.0020 | Train accuracy: 0.7966\n",
            "Val loss: 0.0106 | Val accuracy: 0.7998\n",
            "--------------------------------------------------------\n",
            "Epoch 21/25\n",
            "Train loss: 0.0024 | Train accuracy: 0.7775\n",
            "Val loss: 0.0098 | Val accuracy: 0.8121\n",
            "--------------------------------------------------------\n",
            "Epoch 22/25\n",
            "Train loss: 0.0025 | Train accuracy: 0.7849\n",
            "Val loss: 0.0094 | Val accuracy: 0.8180\n",
            "--------------------------------------------------------\n",
            "Epoch 23/25\n",
            "Train loss: 0.0019 | Train accuracy: 0.7785\n",
            "Val loss: 0.0106 | Val accuracy: 0.8269\n",
            "--------------------------------------------------------\n",
            "Epoch 24/25\n",
            "Train loss: 0.0023 | Train accuracy: 0.7908\n",
            "Val loss: 0.0114 | Val accuracy: 0.8030\n",
            "--------------------------------------------------------\n",
            "Epoch 25/25\n",
            "Train loss: 0.0022 | Train accuracy: 0.7900\n",
            "Val loss: 0.0110 | Val accuracy: 0.8031\n",
            "--------------------------------------------------------\n"
          ]
        }
      ]
    },
    {
      "cell_type": "code",
      "source": [
        "train_loss_np = [item.detach().cpu().numpy() for item in train_loss]\n",
        "train_acc_np = [item for item in train_acc]\n",
        "val_loss_np = [item.detach().cpu().numpy() for item in val_loss]\n",
        "val_acc_np = [item for item in val_acc]\n"
      ],
      "metadata": {
        "id": "3G_YT2ExPwb_"
      },
      "execution_count": null,
      "outputs": []
    },
    {
      "cell_type": "code",
      "source": [
        "# Plotting the loss and accuracy curves\n",
        "fig, (ax1, ax2) = plt.subplots(2, 1, figsize=(10, 8))\n",
        "\n",
        "ax1.plot(range(1, EPOCHS+1), train_loss_np, label='Train Loss')\n",
        "ax1.plot(range(1, EPOCHS+1), val_loss_np, label='Validation Loss', linestyle='dashed')\n",
        "ax1.set_xlabel('Epoch')\n",
        "ax1.set_ylabel('Loss')\n",
        "ax1.legend()\n",
        "\n",
        "ax2.plot(range(1, EPOCHS+1), train_acc_np, label='Train Accuracy')\n",
        "ax2.plot(range(1, EPOCHS+1), val_acc_np, label='Validation Accuracy', linestyle='dashed')\n",
        "ax2.set_xlabel('Epoch')\n",
        "ax2.set_ylabel('Accuracy (%)')\n",
        "ax2.legend()\n",
        "\n",
        "plt.tight_layout()\n",
        "plt.show()"
      ],
      "metadata": {
        "colab": {
          "base_uri": "https://localhost:8080/",
          "height": 685
        },
        "id": "O0LmKhe1P0iP",
        "outputId": "79b414d7-980c-498b-e0fe-0f429ff25851"
      },
      "execution_count": null,
      "outputs": [
        {
          "output_type": "display_data",
          "data": {
            "text/plain": [
              "<Figure size 1000x800 with 2 Axes>"
            ],
            "image/png": "[encoded data removed]"
          },
          "metadata": {}
        }
      ]
    },
    {
      "cell_type": "code",
      "source": [
        "def test_model(model, dataloader, optmizer, loss_fn):\n",
        "  model.eval()\n",
        "  test_loss, test_acc= 0, 0\n",
        "\n",
        "  with torch.no_grad():\n",
        "    for X, y in dataloader:\n",
        "      X, y = X.reshape(-1, 28*28).to(device), y.to(device)\n",
        "      y_pred = model(X)\n",
        "\n",
        "      test_loss += loss_fn(y_pred, y)\n",
        "      test_acc += accuracy_score(y.cpu(), y_pred.cpu().argmax(dim= 1))\n",
        "\n",
        "      test_loss /= len(dataloader)\n",
        "\n",
        "  test_acc /= len(dataloader)\n",
        "  print(f\"Test loss: {test_loss:.4f} | Test accuracy: {test_acc:.4f}\")\n",
        "\n",
        "  return"
      ],
      "metadata": {
        "id": "0VjjDs_0ih_U"
      },
      "execution_count": null,
      "outputs": []
    },
    {
      "cell_type": "code",
      "source": [
        "test_model(model, test_loader, optimizer, loss_fn)"
      ],
      "metadata": {
        "colab": {
          "base_uri": "https://localhost:8080/"
        },
        "id": "Kw9rbINgjA6G",
        "outputId": "45e59227-6137-496a-fa06-2f635c8c5ecd"
      },
      "execution_count": null,
      "outputs": [
        {
          "output_type": "stream",
          "name": "stdout",
          "text": [
            "Test loss: 0.0106 | Test accuracy: 0.7952\n"
          ]
        }
      ]
    }
  ]
}